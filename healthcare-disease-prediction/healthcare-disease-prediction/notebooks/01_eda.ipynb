{
 "cells": [
  {
   "cell_type": "markdown",
   "metadata": {},
   "source": [
    "# Exploratory Data Analysis (EDA)\n",
    "\n",
    "In this notebook, we will perform exploratory data analysis on the healthcare datasets. The goal is to understand the data distributions, correlations, and initial insights that can guide further analysis and modeling."
   ]
  },
  {
   "cell_type": "code",
   "execution_count": null,
   "metadata": {},
   "outputs": [],
   "source": [
    "# Import necessary libraries\n",
    "import pandas as pd\n",
    "import numpy as np\n",
    "import matplotlib.pyplot as plt\n",
    "import seaborn as sns\n",
    "\n",
    "# Set visualisation style\n",
    "sns.set(style='whitegrid')"
   ]
  },
  {
   "cell_type": "code",
   "execution_count": null,
   "metadata": {},
   "outputs": [],
   "source": [
    "# Load the datasets\n",
    "diabetes_data = pd.read_csv('../data/raw/pima-indians-diabetes.csv')\n",
    "heart_disease_data = pd.read_csv('../data/raw/heart_disease.csv')\n",
    "\n",
    "# Display the first few rows of the diabetes dataset\n",
    "diabetes_data.head()"
   ]
  },
  {
   "cell_type": "code",
   "execution_count": null,
   "metadata": {},
   "outputs": [],
   "source": [
    "# Display the first few rows of the heart disease dataset\n",
    "heart_disease_data.head()"
   ]
  },
  {
   "cell_type": "code",
   "execution_count": null,
   "metadata": {},
   "outputs": [],
   "source": [
    "# Summary statistics for diabetes dataset\n",
    "diabetes_data.describe()"
   ]
  },
  {
   "cell_type": "code",
   "execution_count": null,
   "metadata": {},
   "outputs": [],
   "source": [
    "# Summary statistics for heart disease dataset\n",
    "heart_disease_data.describe()"
   ]
  },
  {
   "cell_type": "code",
   "execution_count": null,
   "metadata": {},
   "outputs": [],
   "source": [
    "# Visualize the distribution of the target variable in the diabetes dataset\n",
    "plt.figure(figsize=(8, 5))\n",
    "sns.countplot(x='Outcome', data=diabetes_data)\n",
    "plt.title('Distribution of Diabetes Outcome')\n",
    "plt.xlabel('Diabetes Outcome (0 = No, 1 = Yes)')\n",
    "plt.ylabel('Count')\n",
    "plt.show()"
   ]
  },
  {
   "cell_type": "code",
   "execution_count": null,
   "metadata": {},
   "outputs": [],
   "source": [
    "# Visualize the distribution of the target variable in the heart disease dataset\n",
    "plt.figure(figsize=(8, 5))\n",
    "sns.countplot(x='target', data=heart_disease_data)\n",
    "plt.title('Distribution of Heart Disease Outcome')\n",
    "plt.xlabel('Heart Disease Outcome (0 = No, 1 = Yes)')\n",
    "plt.ylabel('Count')\n",
    "plt.show()"
   ]
  },
  {
   "cell_type": "code",
   "execution_count": null,
   "metadata": {},
   "outputs": [],
   "source": [
    "# Correlation heatmap for diabetes dataset\n",
    "plt.figure(figsize=(10, 8))\n",
    "sns.heatmap(diabetes_data.corr(), annot=True, fmt='.2f', cmap='coolwarm', square=True)\n",
    "plt.title('Correlation Heatmap for Diabetes Dataset')\n",
    "plt.show()"
   ]
  },
  {
   "cell_type": "code",
   "execution_count": null,
   "metadata": {},
   "outputs": [],
   "source": [
    "# Correlation heatmap for heart disease dataset\n",
    "plt.figure(figsize=(10, 8))\n",
    "sns.heatmap(heart_disease_data.corr(), annot=True, fmt='.2f', cmap='coolwarm', square=True)\n",
    "plt.title('Correlation Heatmap for Heart Disease Dataset')\n",
    "plt.show()"
   ]
  },
  {
   "cell_type": "markdown",
   "metadata": {},
   "source": [
    "## Conclusion\n",
    "\n",
    "In this notebook, we performed exploratory data analysis on the diabetes and heart disease datasets. We visualized the distributions of the target variables, summarized the datasets, and examined the correlations between features. These insights will inform our preprocessing and modeling steps in subsequent notebooks."
   ]
  }
 ],
 "metadata": {
  "kernelspec": {
   "display_name": "Python 3",
   "language": "python",
   "name": "python3"
  },
  "language_info": {
   "codemirror_mode": {
    "name": "ipython",
    "version": 3
   },
   "file_extension": ".py",
   "mimetype": "text/x-python",
   "name": "python",
   "nbconvert_exporter": "python",
   "pygments_lexer": "ipython3",
   "version": "3.8.5"
  }
 },
 "nbformat": 4,
 "nbformat_minor": 4
}